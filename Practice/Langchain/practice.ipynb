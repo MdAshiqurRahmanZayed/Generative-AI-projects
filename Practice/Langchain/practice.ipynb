{
 "cells": [
  {
   "cell_type": "code",
   "execution_count": 1,
   "metadata": {},
   "outputs": [],
   "source": [
    "import getpass\n",
    "import os\n",
    "\n",
    "if \"GOOGLE_API_KEY\" not in os.environ:\n",
    "    os.environ[\"GOOGLE_API_KEY\"] = getpass.getpass(\"Provide your Google API Key\")"
   ]
  },
  {
   "cell_type": "code",
   "execution_count": 2,
   "metadata": {},
   "outputs": [],
   "source": [
    "from langchain_google_genai import GoogleGenerativeAI\n",
    "\n",
    "from langchain.prompts import PromptTemplate\n",
    "from langchain.chains import LLMChain,SimpleSequentialChain,SequentialChain"
   ]
  },
  {
   "cell_type": "code",
   "execution_count": 3,
   "metadata": {},
   "outputs": [],
   "source": [
    "llm_genai = GoogleGenerativeAI(model=\"gemini-pro\",temperature=0.6)"
   ]
  },
  {
   "cell_type": "code",
   "execution_count": 4,
   "metadata": {},
   "outputs": [
    {
     "name": "stdout",
     "output_type": "stream",
     "text": [
      "* **Aahar Mahal** (Abode of Cuisine)\n",
      "* **Amrit Rasoi** (Nectar Kitchen)\n",
      "* **Ananda Bhojnalaya** (Blissful Dining)\n",
      "* **Bhojanalaya** (House of Delicacies)\n",
      "* **Chaska** (Craving)\n",
      "* **Daawat** (Feast)\n",
      "* **Desi Junction** (Indian Crossroads)\n",
      "* **Masala Magic** (Spice Enchantment)\n",
      "* **Nawab's Kitchen** (Royal Cuisine)\n",
      "* **Rasoi** (Kitchen)\n",
      "* **Rasik** (Connoisseur)\n",
      "* **Spice Route** (Journey of Flavors)\n",
      "* **Tandoori Tales** (Stories from the Clay Oven)\n",
      "* **Zaika** (Taste)\n"
     ]
    }
   ],
   "source": [
    "name = llm_genai.invoke(\"I want to open a indian food,Suggest a fency name for this!\")\n",
    "print(name)"
   ]
  },
  {
   "cell_type": "code",
   "execution_count": 5,
   "metadata": {},
   "outputs": [
    {
     "data": {
      "text/plain": [
       "'I want to open a restaurant for Maxican food,Suggest only one fency name for this!'"
      ]
     },
     "execution_count": 5,
     "metadata": {},
     "output_type": "execute_result"
    }
   ],
   "source": [
    "promt_template_food_name = PromptTemplate(\n",
    "    input_variables=['cuisine'],\n",
    "    template= \"I want to open a restaurant for {cuisine} food,Suggest only one fency name for this!\"\n",
    ")\n",
    "promt_template_food_name.format(cuisine=\"Maxican\")"
   ]
  },
  {
   "cell_type": "code",
   "execution_count": 6,
   "metadata": {},
   "outputs": [
    {
     "name": "stderr",
     "output_type": "stream",
     "text": [
      "/tmp/ipykernel_74665/2595859643.py:1: LangChainDeprecationWarning: The class `LLMChain` was deprecated in LangChain 0.1.17 and will be removed in 1.0. Use :meth:`~RunnableSequence, e.g., `prompt | llm`` instead.\n",
      "  chain_restaurant  = LLMChain(llm=llm_genai, prompt=promt_template_food_name,output_key=\"restaurant_name\")\n",
      "/tmp/ipykernel_74665/2595859643.py:3: LangChainDeprecationWarning: The method `Chain.run` was deprecated in langchain 0.1.0 and will be removed in 1.0. Use :meth:`~invoke` instead.\n",
      "  restaurant_name = chain_restaurant.run(cuisine=cuisine)\n"
     ]
    },
    {
     "name": "stdout",
     "output_type": "stream",
     "text": [
      "\n",
      "* Appetizers: Bruschetta, Calamari, Caprese Salad\n",
      "* Entrées: Lasagna, Chicken Parmesan, Pasta Carbonara\n",
      "* Side Dishes: Garlic Bread, Caesar Salad, Roasted Vegetables\n",
      "* Desserts: Tiramisu, Cannoli, Gelato\n"
     ]
    }
   ],
   "source": [
    "chain_restaurant  = LLMChain(llm=llm_genai, prompt=promt_template_food_name,output_key=\"restaurant_name\")\n",
    "cuisine = \"Bangladeshi\"\n",
    "restaurant_name = chain_restaurant.run(cuisine=cuisine)\n",
    "print(restaurant_name)\n",
    "\n",
    "promt_template_menu_items = PromptTemplate(\n",
    "    input_variables=['restaurant_name'],\n",
    "    template= \"Suggest some menu items for {restaurant_name}.Return it as comma saparated list.\"\n",
    ")  \n",
    "chain_menu = LLMChain(llm=llm_genai, prompt=promt_template_menu_items,output_key=\"menu_items\")\n",
    "menu_items = chain_menu.run(restaurant_name=restaurant_name)\n",
    "print(menu_items)\n"
   ]
  },
  {
   "cell_type": "code",
   "execution_count": 7,
   "metadata": {},
   "outputs": [],
   "source": [
    "prompt_template_name = PromptTemplate(\n",
    "    input_variables =['cuisine'],\n",
    "    template = \"I want to open a restaurant for {cuisine} food. Suggest me a only one fency name for this.\"\n",
    ")\n",
    "\n",
    "name_chain =LLMChain(llm=llm_genai, prompt=prompt_template_name, output_key=\"restaurant_name\")\n",
    "\n",
    "\n",
    "prompt_template_items = PromptTemplate(\n",
    "    input_variables = ['restaurant_name'],\n",
    "    template=\"Suggest some menu items for {restaurant_name}.\"\n",
    ")\n",
    "\n",
    "food_items_chain =LLMChain(llm=llm_genai, prompt=prompt_template_items, output_key=\"menu_items\")"
   ]
  },
  {
   "cell_type": "code",
   "execution_count": 8,
   "metadata": {},
   "outputs": [
    {
     "name": "stderr",
     "output_type": "stream",
     "text": [
      "/tmp/ipykernel_74665/141500343.py:8: LangChainDeprecationWarning: The method `Chain.__call__` was deprecated in langchain 0.1.0 and will be removed in 1.0. Use :meth:`~invoke` instead.\n",
      "  chain({\"cuisine\": \"Arabic\"})\n"
     ]
    },
    {
     "data": {
      "text/plain": [
       "{'cuisine': 'Arabic',\n",
       " 'restaurant_name': '**Al-Basha\\'ir** (Arabic for \"The Good News\")',\n",
       " 'menu_items': \"**Appetizers**\\n\\n* **Hummus Bil Lahm:** Creamy hummus topped with tender lamb meat\\n* **Falafel:** Crispy chickpea fritters served with tahini sauce\\n* **Kibbeh Nayeh:** Raw lamb and bulgur wheat seasoned with spices and onions\\n* **Makanek:** Grilled Lebanese sausages served with pickles and onions\\n* **Mutabal:** Roasted eggplant dip with tahini, lemon, and garlic\\n\\n**Main Courses**\\n\\n* **Shish Taouk:** Marinated chicken skewers grilled to perfection\\n* **Kofta:** Grilled minced lamb or beef seasoned with spices and herbs\\n* **Lamb Chops:** Juicy lamb chops grilled and seasoned with herbs\\n* **Mixed Grill:** A platter of assorted grilled meats, including shish taouk, kofta, and lamb chops\\n* **Maqluba:** Traditional upside-down rice dish with layers of meat, vegetables, and spices\\n\\n**Sides**\\n\\n* **Tabbouleh:** Fresh parsley salad with bulgur wheat, tomatoes, onions, and mint\\n* **Fattoush:** Mixed salad with toasted pita bread, vegetables, and a tangy dressing\\n* **Labneh:** Creamy yogurt cheese served with olive oil and za'atar\\n* **Warak Enab:** Stuffed grape leaves with rice, meat, and vegetables\\n* **Batata Harra:** Spicy fried potatoes with garlic and coriander\\n\\n**Desserts**\\n\\n* **Baklava:** Layers of filo pastry filled with nuts and honey syrup\\n* **Knafeh:** Sweet cheese pastry topped with shredded wheat and syrup\\n* **Umm Ali:** Bread pudding with milk, sugar, and nuts\\n* **Ashta:** Creamy rose-water pudding\\n* **Fruit Salad:** Fresh seasonal fruit served with honey syrup\"}"
      ]
     },
     "execution_count": 8,
     "metadata": {},
     "output_type": "execute_result"
    }
   ],
   "source": [
    "from langchain.chains import SequentialChain\n",
    "\n",
    "chain = SequentialChain(\n",
    "    chains = [name_chain, food_items_chain],\n",
    "    input_variables = ['cuisine'],\n",
    "    output_variables = ['restaurant_name', \"menu_items\"]\n",
    ")\n",
    "chain({\"cuisine\": \"Arabic\"})"
   ]
  },
  {
   "cell_type": "markdown",
   "metadata": {},
   "source": [
    "# Agent"
   ]
  },
  {
   "cell_type": "code",
   "execution_count": 9,
   "metadata": {},
   "outputs": [],
   "source": [
    "from langchain.agents import AgentType, initialize_agent, load_tools"
   ]
  },
  {
   "cell_type": "code",
   "execution_count": 10,
   "metadata": {},
   "outputs": [],
   "source": [
    "llm_genai_agent = GoogleGenerativeAI(model=\"gemini-pro\",temperature=0.6)"
   ]
  },
  {
   "cell_type": "code",
   "execution_count": 11,
   "metadata": {},
   "outputs": [
    {
     "ename": "ValidationError",
     "evalue": "1 validation error for SerpAPIWrapper\n  Value error, Did not find serpapi_api_key, please add an environment variable `SERPAPI_API_KEY` which contains it, or pass `serpapi_api_key` as a named parameter. [type=value_error, input_value={}, input_type=dict]\n    For further information visit https://errors.pydantic.dev/2.9/v/value_error",
     "output_type": "error",
     "traceback": [
      "\u001b[0;31m---------------------------------------------------------------------------\u001b[0m",
      "\u001b[0;31mValidationError\u001b[0m                           Traceback (most recent call last)",
      "Cell \u001b[0;32mIn[11], line 2\u001b[0m\n\u001b[1;32m      1\u001b[0m \u001b[38;5;28;01mfrom\u001b[39;00m \u001b[38;5;21;01mlangchain_community\u001b[39;00m\u001b[38;5;21;01m.\u001b[39;00m\u001b[38;5;21;01mutilities\u001b[39;00m \u001b[38;5;28;01mimport\u001b[39;00m SerpAPIWrapper\n\u001b[0;32m----> 2\u001b[0m search \u001b[38;5;241m=\u001b[39m SerpAPIWrapper()\n\u001b[1;32m      3\u001b[0m search\u001b[38;5;241m.\u001b[39mrun(\u001b[38;5;124m\"\u001b[39m\u001b[38;5;124mObama\u001b[39m\u001b[38;5;124m'\u001b[39m\u001b[38;5;124ms first name?\u001b[39m\u001b[38;5;124m\"\u001b[39m)\n",
      "File \u001b[0;32m~/anaconda3/lib/python3.11/site-packages/pydantic/main.py:212\u001b[0m, in \u001b[0;36mBaseModel.__init__\u001b[0;34m(self, **data)\u001b[0m\n\u001b[1;32m    210\u001b[0m \u001b[38;5;66;03m# `__tracebackhide__` tells pytest and some other tools to omit this function from tracebacks\u001b[39;00m\n\u001b[1;32m    211\u001b[0m __tracebackhide__ \u001b[38;5;241m=\u001b[39m \u001b[38;5;28;01mTrue\u001b[39;00m\n\u001b[0;32m--> 212\u001b[0m validated_self \u001b[38;5;241m=\u001b[39m \u001b[38;5;28mself\u001b[39m\u001b[38;5;241m.\u001b[39m__pydantic_validator__\u001b[38;5;241m.\u001b[39mvalidate_python(data, self_instance\u001b[38;5;241m=\u001b[39m\u001b[38;5;28mself\u001b[39m)\n\u001b[1;32m    213\u001b[0m \u001b[38;5;28;01mif\u001b[39;00m \u001b[38;5;28mself\u001b[39m \u001b[38;5;129;01mis\u001b[39;00m \u001b[38;5;129;01mnot\u001b[39;00m validated_self:\n\u001b[1;32m    214\u001b[0m     warnings\u001b[38;5;241m.\u001b[39mwarn(\n\u001b[1;32m    215\u001b[0m         \u001b[38;5;124m'\u001b[39m\u001b[38;5;124mA custom validator is returning a value other than `self`.\u001b[39m\u001b[38;5;130;01m\\n\u001b[39;00m\u001b[38;5;124m'\u001b[39m\n\u001b[1;32m    216\u001b[0m         \u001b[38;5;124m\"\u001b[39m\u001b[38;5;124mReturning anything other than `self` from a top level model validator isn\u001b[39m\u001b[38;5;124m'\u001b[39m\u001b[38;5;124mt supported when validating via `__init__`.\u001b[39m\u001b[38;5;130;01m\\n\u001b[39;00m\u001b[38;5;124m\"\u001b[39m\n\u001b[1;32m    217\u001b[0m         \u001b[38;5;124m'\u001b[39m\u001b[38;5;124mSee the `model_validator` docs (https://docs.pydantic.dev/latest/concepts/validators/#model-validators) for more details.\u001b[39m\u001b[38;5;124m'\u001b[39m,\n\u001b[1;32m    218\u001b[0m         category\u001b[38;5;241m=\u001b[39m\u001b[38;5;28;01mNone\u001b[39;00m,\n\u001b[1;32m    219\u001b[0m     )\n",
      "\u001b[0;31mValidationError\u001b[0m: 1 validation error for SerpAPIWrapper\n  Value error, Did not find serpapi_api_key, please add an environment variable `SERPAPI_API_KEY` which contains it, or pass `serpapi_api_key` as a named parameter. [type=value_error, input_value={}, input_type=dict]\n    For further information visit https://errors.pydantic.dev/2.9/v/value_error"
     ]
    }
   ],
   "source": [
    "from langchain_community.utilities import SerpAPIWrapper\n",
    "search = SerpAPIWrapper()\n",
    "search.run(\"Obama's first name?\")"
   ]
  }
 ],
 "metadata": {
  "kernelspec": {
   "display_name": "base",
   "language": "python",
   "name": "python3"
  },
  "language_info": {
   "codemirror_mode": {
    "name": "ipython",
    "version": 3
   },
   "file_extension": ".py",
   "mimetype": "text/x-python",
   "name": "python",
   "nbconvert_exporter": "python",
   "pygments_lexer": "ipython3",
   "version": "3.11.7"
  }
 },
 "nbformat": 4,
 "nbformat_minor": 2
}
