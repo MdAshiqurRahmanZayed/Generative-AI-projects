{
 "cells": [
  {
   "cell_type": "code",
   "execution_count": 1,
   "metadata": {},
   "outputs": [],
   "source": [
    "import getpass\n",
    "import os\n",
    "\n",
    "if \"GOOGLE_API_KEY\" not in os.environ:\n",
    "    os.environ[\"GOOGLE_API_KEY\"] = getpass.getpass(\"Provide your Google API Key\")"
   ]
  },
  {
   "cell_type": "code",
   "execution_count": 2,
   "metadata": {},
   "outputs": [],
   "source": [
    "from langchain_google_genai import GoogleGenerativeAI\n",
    "\n",
    "from langchain.prompts import PromptTemplate\n",
    "from langchain.chains import LLMChain,SimpleSequentialChain,SequentialChain"
   ]
  },
  {
   "cell_type": "code",
   "execution_count": 3,
   "metadata": {},
   "outputs": [],
   "source": [
    "llm_genai = GoogleGenerativeAI(model=\"gemini-pro\",temperature=0.6)"
   ]
  },
  {
   "cell_type": "code",
   "execution_count": 4,
   "metadata": {},
   "outputs": [
    {
     "name": "stdout",
     "output_type": "stream",
     "text": [
      "* **Aahar Mahal** (Abode of Delicacies)\n",
      "* **Bhojanalaya** (House of Food)\n",
      "* **Chulha** (Traditional Indian Oven)\n",
      "* **Daawat-e-Khaas** (Special Feast)\n",
      "* **Deva Bhojan** (Food Fit for the Divine)\n",
      "* **Indus** (Named after the legendary river)\n",
      "* **Maharaja's Feast** (Fit for Royalty)\n",
      "* **Navrasa** (Nine Flavors)\n",
      "* **Rasoi** (Kitchen)\n",
      "* **Ritu** (Season)\n",
      "* **Samudra** (Ocean)\n",
      "* **Spices & Silk** (Celebrating the Exotic)\n",
      "* **Tabla** (Indian Percussion Instrument)\n",
      "* **Tandoor Palace** (Home of the Clay Oven)\n",
      "* **Thali** (Traditional Indian Platter)\n"
     ]
    }
   ],
   "source": [
    "name = llm_genai.invoke(\"I want to open a indian food,Suggest a fency name for this!\")\n",
    "print(name)"
   ]
  },
  {
   "cell_type": "code",
   "execution_count": 5,
   "metadata": {},
   "outputs": [
    {
     "data": {
      "text/plain": [
       "'I want to open a restaurant for Maxican food,Suggest only one fency name for this!'"
      ]
     },
     "execution_count": 5,
     "metadata": {},
     "output_type": "execute_result"
    }
   ],
   "source": [
    "promt_template_food_name = PromptTemplate(\n",
    "    input_variables=['cuisine'],\n",
    "    template= \"I want to open a restaurant for {cuisine} food,Suggest only one fency name for this!\"\n",
    ")\n",
    "promt_template_food_name.format(cuisine=\"Maxican\")"
   ]
  },
  {
   "cell_type": "code",
   "execution_count": 6,
   "metadata": {},
   "outputs": [
    {
     "name": "stderr",
     "output_type": "stream",
     "text": [
      "/tmp/ipykernel_44842/2595859643.py:1: LangChainDeprecationWarning: The class `LLMChain` was deprecated in LangChain 0.1.17 and will be removed in 1.0. Use :meth:`~RunnableSequence, e.g., `prompt | llm`` instead.\n",
      "  chain_restaurant  = LLMChain(llm=llm_genai, prompt=promt_template_food_name,output_key=\"restaurant_name\")\n",
      "/tmp/ipykernel_44842/2595859643.py:3: LangChainDeprecationWarning: The method `Chain.run` was deprecated in langchain 0.1.0 and will be removed in 1.0. Use :meth:`~invoke` instead.\n",
      "  restaurant_name = chain_restaurant.run(cuisine=cuisine)\n"
     ]
    },
    {
     "name": "stdout",
     "output_type": "stream",
     "text": [
      "Aangan of Dhaka\n",
      "Chicken Tikka Masala, Biryani, Tandoori Chicken, Chana Masala, Butter Chicken, Palak Paneer, Aloo Gobi, Raita, Naan, Lassi\n"
     ]
    }
   ],
   "source": [
    "chain_restaurant  = LLMChain(llm=llm_genai, prompt=promt_template_food_name,output_key=\"restaurant_name\")\n",
    "cuisine = \"Bangladeshi\"\n",
    "restaurant_name = chain_restaurant.run(cuisine=cuisine)\n",
    "print(restaurant_name)\n",
    "\n",
    "promt_template_menu_items = PromptTemplate(\n",
    "    input_variables=['restaurant_name'],\n",
    "    template= \"Suggest some menu items for {restaurant_name}.Return it as comma saparated list.\"\n",
    ")  \n",
    "chain_menu = LLMChain(llm=llm_genai, prompt=promt_template_menu_items,output_key=\"menu_items\")\n",
    "menu_items = chain_menu.run(restaurant_name=restaurant_name)\n",
    "print(menu_items)\n"
   ]
  },
  {
   "cell_type": "code",
   "execution_count": 7,
   "metadata": {},
   "outputs": [],
   "source": [
    "prompt_template_name = PromptTemplate(\n",
    "    input_variables =['cuisine'],\n",
    "    template = \"I want to open a restaurant for {cuisine} food. Suggest me a only one fency name for this.\"\n",
    ")\n",
    "\n",
    "name_chain =LLMChain(llm=llm_genai, prompt=prompt_template_name, output_key=\"restaurant_name\")\n",
    "\n",
    "\n",
    "prompt_template_items = PromptTemplate(\n",
    "    input_variables = ['restaurant_name'],\n",
    "    template=\"Suggest some menu items for {restaurant_name}.\"\n",
    ")\n",
    "\n",
    "food_items_chain =LLMChain(llm=llm_genai, prompt=prompt_template_items, output_key=\"menu_items\")"
   ]
  },
  {
   "cell_type": "code",
   "execution_count": 8,
   "metadata": {},
   "outputs": [
    {
     "name": "stderr",
     "output_type": "stream",
     "text": [
      "/tmp/ipykernel_44842/141500343.py:8: LangChainDeprecationWarning: The method `Chain.__call__` was deprecated in langchain 0.1.0 and will be removed in 1.0. Use :meth:`~invoke` instead.\n",
      "  chain({\"cuisine\": \"Arabic\"})\n"
     ]
    },
    {
     "data": {
      "text/plain": [
       "{'cuisine': 'Arabic',\n",
       " 'restaurant_name': 'Al-Andalus',\n",
       " 'menu_items': '**Appetizers**\\n\\n* **Albondigas de Cordero:** Lamb meatballs in a rich tomato sauce\\n* **Empanadillas de Espinacas y Queso:** Spinach and cheese empanadas\\n* **Croquetas de Jamón:** Ham croquettes\\n* **Ensalada Moruna:** Moroccan-style salad with tomatoes, cucumbers, onions, and olives\\n* **Hummus con Pita:** Chickpea hummus with pita bread\\n\\n**Main Courses**\\n\\n* **Paella Valenciana:** Traditional Spanish seafood and rice dish\\n* **Tagine de Pollo con Albaricoques:** Chicken tagine with apricots\\n* **Cordero Asado con Couscous:** Roasted lamb with couscous\\n* **Lubina a la Plancha:** Grilled sea bass\\n* **Solomillo de Ternera a la Brasa:** Grilled beef tenderloin\\n\\n**Desserts**\\n\\n* **Baklava:** Phyllo pastry filled with nuts and honey\\n* **Turrón de Alicante:** Hard nougat made with almonds and honey\\n* **Crema Catalana:** Catalan custard dessert\\n* **Churros con Chocolate:** Fried dough served with hot chocolate\\n* **Helado de Azafrán:** Saffron ice cream\\n\\n**Drinks**\\n\\n* **Sangría:** Spanish wine punch\\n* **Tinto de Verano:** Red wine with lemonade\\n* **Cerveza:** Spanish beer\\n* **Té Moruno:** Moroccan-style tea with mint\\n* **Café con Leche:** Coffee with milk'}"
      ]
     },
     "execution_count": 8,
     "metadata": {},
     "output_type": "execute_result"
    }
   ],
   "source": [
    "from langchain.chains import SequentialChain\n",
    "\n",
    "chain = SequentialChain(\n",
    "    chains = [name_chain, food_items_chain],\n",
    "    input_variables = ['cuisine'],\n",
    "    output_variables = ['restaurant_name', \"menu_items\"]\n",
    ")\n",
    "chain({\"cuisine\": \"Arabic\"})"
   ]
  },
  {
   "cell_type": "markdown",
   "metadata": {},
   "source": [
    "# Agent"
   ]
  },
  {
   "cell_type": "code",
   "execution_count": 9,
   "metadata": {},
   "outputs": [],
   "source": [
    "from langchain.agents import AgentType, initialize_agent, load_tools"
   ]
  },
  {
   "cell_type": "code",
   "execution_count": 10,
   "metadata": {},
   "outputs": [],
   "source": [
    "llm_genai_agent = GoogleGenerativeAI(model=\"gemini-pro\",temperature=0.6)"
   ]
  },
  {
   "cell_type": "code",
   "execution_count": 13,
   "metadata": {},
   "outputs": [
    {
     "ename": "ValidationError",
     "evalue": "1 validation error for SerpAPIWrapper\n  Value error, Did not find serpapi_api_key, please add an environment variable `SERPAPI_API_KEY` which contains it, or pass `serpapi_api_key` as a named parameter. [type=value_error, input_value={}, input_type=dict]\n    For further information visit https://errors.pydantic.dev/2.9/v/value_error",
     "output_type": "error",
     "traceback": [
      "\u001b[0;31m---------------------------------------------------------------------------\u001b[0m",
      "\u001b[0;31mValidationError\u001b[0m                           Traceback (most recent call last)",
      "Cell \u001b[0;32mIn[13], line 2\u001b[0m\n\u001b[1;32m      1\u001b[0m \u001b[38;5;28;01mfrom\u001b[39;00m \u001b[38;5;21;01mlangchain_community\u001b[39;00m\u001b[38;5;21;01m.\u001b[39;00m\u001b[38;5;21;01mutilities\u001b[39;00m \u001b[38;5;28;01mimport\u001b[39;00m SerpAPIWrapper\n\u001b[0;32m----> 2\u001b[0m search \u001b[38;5;241m=\u001b[39m SerpAPIWrapper()\n\u001b[1;32m      3\u001b[0m search\u001b[38;5;241m.\u001b[39mrun(\u001b[38;5;124m\"\u001b[39m\u001b[38;5;124mObama\u001b[39m\u001b[38;5;124m'\u001b[39m\u001b[38;5;124ms first name?\u001b[39m\u001b[38;5;124m\"\u001b[39m)\n",
      "File \u001b[0;32m~/anaconda3/lib/python3.11/site-packages/pydantic/main.py:212\u001b[0m, in \u001b[0;36mBaseModel.__init__\u001b[0;34m(self, **data)\u001b[0m\n\u001b[1;32m    210\u001b[0m \u001b[38;5;66;03m# `__tracebackhide__` tells pytest and some other tools to omit this function from tracebacks\u001b[39;00m\n\u001b[1;32m    211\u001b[0m __tracebackhide__ \u001b[38;5;241m=\u001b[39m \u001b[38;5;28;01mTrue\u001b[39;00m\n\u001b[0;32m--> 212\u001b[0m validated_self \u001b[38;5;241m=\u001b[39m \u001b[38;5;28mself\u001b[39m\u001b[38;5;241m.\u001b[39m__pydantic_validator__\u001b[38;5;241m.\u001b[39mvalidate_python(data, self_instance\u001b[38;5;241m=\u001b[39m\u001b[38;5;28mself\u001b[39m)\n\u001b[1;32m    213\u001b[0m \u001b[38;5;28;01mif\u001b[39;00m \u001b[38;5;28mself\u001b[39m \u001b[38;5;129;01mis\u001b[39;00m \u001b[38;5;129;01mnot\u001b[39;00m validated_self:\n\u001b[1;32m    214\u001b[0m     warnings\u001b[38;5;241m.\u001b[39mwarn(\n\u001b[1;32m    215\u001b[0m         \u001b[38;5;124m'\u001b[39m\u001b[38;5;124mA custom validator is returning a value other than `self`.\u001b[39m\u001b[38;5;130;01m\\n\u001b[39;00m\u001b[38;5;124m'\u001b[39m\n\u001b[1;32m    216\u001b[0m         \u001b[38;5;124m\"\u001b[39m\u001b[38;5;124mReturning anything other than `self` from a top level model validator isn\u001b[39m\u001b[38;5;124m'\u001b[39m\u001b[38;5;124mt supported when validating via `__init__`.\u001b[39m\u001b[38;5;130;01m\\n\u001b[39;00m\u001b[38;5;124m\"\u001b[39m\n\u001b[1;32m    217\u001b[0m         \u001b[38;5;124m'\u001b[39m\u001b[38;5;124mSee the `model_validator` docs (https://docs.pydantic.dev/latest/concepts/validators/#model-validators) for more details.\u001b[39m\u001b[38;5;124m'\u001b[39m,\n\u001b[1;32m    218\u001b[0m         category\u001b[38;5;241m=\u001b[39m\u001b[38;5;28;01mNone\u001b[39;00m,\n\u001b[1;32m    219\u001b[0m     )\n",
      "\u001b[0;31mValidationError\u001b[0m: 1 validation error for SerpAPIWrapper\n  Value error, Did not find serpapi_api_key, please add an environment variable `SERPAPI_API_KEY` which contains it, or pass `serpapi_api_key` as a named parameter. [type=value_error, input_value={}, input_type=dict]\n    For further information visit https://errors.pydantic.dev/2.9/v/value_error"
     ]
    }
   ],
   "source": [
    "from langchain_community.utilities import SerpAPIWrapper\n",
    "search = SerpAPIWrapper()\n",
    "search.run(\"Obama's first name?\")"
   ]
  }
 ],
 "metadata": {
  "kernelspec": {
   "display_name": "base",
   "language": "python",
   "name": "python3"
  },
  "language_info": {
   "codemirror_mode": {
    "name": "ipython",
    "version": 3
   },
   "file_extension": ".py",
   "mimetype": "text/x-python",
   "name": "python",
   "nbconvert_exporter": "python",
   "pygments_lexer": "ipython3",
   "version": "3.11.7"
  }
 },
 "nbformat": 4,
 "nbformat_minor": 2
}
