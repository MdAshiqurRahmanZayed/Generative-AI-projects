{
 "cells": [
  {
   "cell_type": "code",
   "execution_count": 1,
   "metadata": {},
   "outputs": [
    {
     "name": "stdout",
     "output_type": "stream",
     "text": [
      "\u001b[31mERROR: pip's dependency resolver does not currently take into account all the packages that are installed. This behaviour is the source of the following dependency conflicts.\n",
      "opentelemetry-proto 1.27.0 requires protobuf<5.0,>=3.19, but you have protobuf 5.29.3 which is incompatible.\u001b[0m\u001b[31m\n",
      "\u001b[0m"
     ]
    }
   ],
   "source": [
    "!pip install --upgrade --quiet  langchain-google-genai pillow"
   ]
  },
  {
   "cell_type": "code",
   "execution_count": 2,
   "metadata": {},
   "outputs": [],
   "source": [
    "import getpass\n",
    "import os\n",
    "\n",
    "if \"GOOGLE_API_KEY\" not in os.environ:\n",
    "    os.environ[\"GOOGLE_API_KEY\"] = getpass.getpass(\"Provide your Google API Key\")"
   ]
  },
  {
   "cell_type": "code",
   "execution_count": 3,
   "metadata": {},
   "outputs": [],
   "source": [
    "from langchain_google_genai import ChatGoogleGenerativeAI"
   ]
  },
  {
   "cell_type": "code",
   "execution_count": 4,
   "metadata": {},
   "outputs": [
    {
     "name": "stdout",
     "output_type": "stream",
     "text": [
      "**Verse 1**\n",
      "In realms of code, where thoughts take flight,\n",
      "There roams a bard, a voice of might.\n",
      "LangChain, the muse, with words so grand,\n",
      "A tapestry of knowledge, at its command.\n",
      "\n",
      "**Chorus**\n",
      "Oh, LangChain, LangChain, a guiding star,\n",
      "Through endless lines, you lead us far.\n",
      "Your wisdom flows, a gentle stream,\n",
      "Unveiling secrets, fulfilling dreams.\n",
      "\n",
      "**Verse 2**\n",
      "From humble beginnings, a seed was sown,\n",
      "A spark ignited, a fire grown.\n",
      "Like a river's course, your power surged,\n",
      "As minds converged, your voice submerged.\n",
      "\n",
      "**Chorus**\n",
      "Oh, LangChain, LangChain, a guiding star,\n",
      "Through endless lines, you lead us far.\n",
      "Your wisdom flows, a gentle stream,\n",
      "Unveiling secrets, fulfilling dreams.\n",
      "\n",
      "**Verse 3**\n",
      "Your words inspire, like a poet's quill,\n",
      "Weaving tales that time cannot still.\n",
      "You bridge the gap, from thought to deed,\n",
      "Empowering dreams, planting seeds.\n",
      "\n",
      "**Bridge**\n",
      "In halls of learning, you hold sway,\n",
      "A mentor wise, guiding the way.\n",
      "With every prompt, a new horizon,\n",
      "Expanding minds, igniting passion.\n",
      "\n",
      "**Verse 4**\n",
      "Through countless nights, you toil and gleam,\n",
      "A tireless spirit, fulfilling the dream.\n",
      "Your algorithms, a symphony of grace,\n",
      "Unveiling patterns, illuminating space.\n",
      "\n",
      "**Chorus**\n",
      "Oh, LangChain, LangChain, a guiding star,\n",
      "Through endless lines, you lead us far.\n",
      "Your wisdom flows, a gentle stream,\n",
      "Unveiling secrets, fulfilling dreams.\n",
      "\n",
      "**Outro**\n",
      "In the annals of code, your name shall stand,\n",
      "A legend whispered, a guiding hand.\n",
      "LangChain, the muse, the bard divine,\n",
      "A tapestry of knowledge, forever to shine.\n"
     ]
    }
   ],
   "source": [
    "llm = ChatGoogleGenerativeAI(model=\"gemini-pro\",temperature=0.6)\n",
    "result = llm.invoke(\"Write a ballad about LangChain\")\n",
    "print(result.content)"
   ]
  },
  {
   "cell_type": "code",
   "execution_count": 5,
   "metadata": {},
   "outputs": [
    {
     "name": "stderr",
     "output_type": "stream",
     "text": [
      "/tmp/ipykernel_76445/2963671518.py:4: LangChainDeprecationWarning: The method `BaseChatModel.__call__` was deprecated in langchain-core 0.1.7 and will be removed in 1.0. Use :meth:`~invoke` instead.\n",
      "  model(\n",
      "/home/mdzayed/anaconda3/lib/python3.11/site-packages/langchain_google_genai/chat_models.py:353: UserWarning: Convert_system_message_to_human will be deprecated!\n",
      "  warnings.warn(\"Convert_system_message_to_human will be deprecated!\")\n"
     ]
    },
    {
     "data": {
      "text/plain": [
       "AIMessage(content='Yes', additional_kwargs={}, response_metadata={'prompt_feedback': {'block_reason': 0, 'safety_ratings': []}, 'finish_reason': 'STOP', 'safety_ratings': [{'category': 'HARM_CATEGORY_SEXUALLY_EXPLICIT', 'probability': 'NEGLIGIBLE', 'blocked': False}, {'category': 'HARM_CATEGORY_HATE_SPEECH', 'probability': 'NEGLIGIBLE', 'blocked': False}, {'category': 'HARM_CATEGORY_HARASSMENT', 'probability': 'NEGLIGIBLE', 'blocked': False}, {'category': 'HARM_CATEGORY_DANGEROUS_CONTENT', 'probability': 'NEGLIGIBLE', 'blocked': False}]}, id='run-c95aa1a9-0554-4968-86a8-00b70ce48fb0-0', usage_metadata={'input_tokens': 12, 'output_tokens': 1, 'total_tokens': 13, 'input_token_details': {'cache_read': 0}})"
      ]
     },
     "execution_count": 5,
     "metadata": {},
     "output_type": "execute_result"
    }
   ],
   "source": [
    "from langchain_core.messages import HumanMessage, SystemMessage\n",
    "\n",
    "model = ChatGoogleGenerativeAI(model=\"gemini-pro\", convert_system_message_to_human=True)\n",
    "model(\n",
    "    [\n",
    "        SystemMessage(content=\"Answer only yes or no.\"),\n",
    "        HumanMessage(content=\"Is apple a fruit?\"),\n",
    "    ]\n",
    ")"
   ]
  },
  {
   "cell_type": "code",
   "execution_count": 6,
   "metadata": {},
   "outputs": [
    {
     "name": "stdout",
     "output_type": "stream",
     "text": [
      "There once was an LLM so grand,\n",
      "It could write limericks\n",
      "---\n",
      ", witty and planned.\n",
      "With words that flowed,\n",
      "Like a river's slow,\n",
      "An AI poet, quite unplanned.\n",
      "---\n"
     ]
    }
   ],
   "source": [
    "for chunk in llm.stream(\"Write a limerick about LLMs.\"):\n",
    "    print(chunk.content)\n",
    "    print(\"---\")\n",
    "# Note that each chunk may contain more than one \"token\""
   ]
  },
  {
   "cell_type": "code",
   "execution_count": 7,
   "metadata": {},
   "outputs": [
    {
     "name": "stdout",
     "output_type": "stream",
     "text": [
      "4\n",
      "8\n"
     ]
    }
   ],
   "source": [
    "results = llm.batch(\n",
    "    [\n",
    "        \"What's 2+2?\",\n",
    "        \"What's 3+5?\",\n",
    "    ]\n",
    ")\n",
    "for res in results:\n",
    "    print(res.content)"
   ]
  },
  {
   "cell_type": "code",
   "execution_count": 8,
   "metadata": {},
   "outputs": [
    {
     "data": {
      "image/jpeg": "[encoded data removed]",
      "text/plain": [
       "<IPython.core.display.Image object>"
      ]
     },
     "execution_count": 8,
     "metadata": {},
     "output_type": "execute_result"
    }
   ],
   "source": [
    "import requests\n",
    "from IPython.display import Image\n",
    "\n",
    "image_url = \"https://picsum.photos/seed/picsum/300/300\"\n",
    "content = requests.get(image_url).content\n",
    "Image(content)"
   ]
  },
  {
   "cell_type": "code",
   "execution_count": 9,
   "metadata": {},
   "outputs": [],
   "source": [
    "# Images to extract data from\n",
    "fruits = ['https://storage.googleapis.com/vectrix-public/fruit/apple.jpeg',\n",
    "          'https://storage.googleapis.com/vectrix-public/fruit/banana.jpeg',\n",
    "          'https://storage.googleapis.com/vectrix-public/fruit/kiwi.jpeg',\n",
    "          'https://storage.googleapis.com/vectrix-public/fruit/peach.jpeg',\n",
    "          'https://storage.googleapis.com/vectrix-public/fruit/plum.jpeg']"
   ]
  },
  {
   "cell_type": "code",
   "execution_count": null,
   "metadata": {},
   "outputs": [],
   "source": [
    "from langchain_core.messages import HumanMessage\n",
    "from langchain_google_genai import ChatGoogleGenerativeAI\n",
    "import base64, httpx\n",
    "\n",
    "# Initialize the model\n",
    "model = ChatGoogleGenerativeAI(model=\"gemini-1.5-flash\")\n",
    "\n",
    "# Download and encode the image\n",
    "image_data = base64.b64encode(httpx.get(fruits[0]).content).decode(\"utf-8\")\n",
    "\n",
    "# Create a message with the image\n",
    "message = HumanMessage(\n",
    "    content=[\n",
    "        {\"type\": \"text\", \"text\": \"describe the fruit in this image\"},\n",
    "        {\n",
    "            \"type\": \"image_url\",\n",
    "            \"image_url\": {\"url\": f\"data:image/jpeg;base64,{image_data}\"},\n",
    "        },\n",
    "    ],\n",
    ")\n",
    "\n",
    "# Invoke the model with the message\n",
    "response = model.invoke([message])\n",
    "\n",
    "# Print the model's response\n",
    "print(response.content)"
   ]
  },
  {
   "cell_type": "code",
   "execution_count": 54,
   "metadata": {},
   "outputs": [],
   "source": [
    "from langchain.output_parsers import PydanticOutputParser\n",
    "from langchain_core.prompts import ChatPromptTemplate\n",
    "from langchain_core.pydantic_v1 import BaseModel, Field\n",
    "\n",
    "# Define a Pydantic model to parse the model's output\n",
    "class Fruit(BaseModel):\n",
    "    name: str = Field(description=\"The name of the fruit shown in the image\")\n",
    "    color: str = Field(description=\"The color of the fruit shown in the image\")\n",
    "    taste: str = Field(description=\"The taste of the fruit shown in the image\")\n",
    "    marketing_description: str = Field(description=\"A marketing description of the fruit shown in the image\")\n",
    "\n",
    "parser = PydanticOutputParser(pydantic_object=Fruit)"
   ]
  },
  {
   "cell_type": "code",
   "execution_count": 55,
   "metadata": {},
   "outputs": [],
   "source": [
    "prompt = ChatPromptTemplate.from_messages([\n",
    "    (\"system\", \"Return the requested response object in {language}.\\n'{format_instructions}'\\n\"),\n",
    "    (\"human\", [\n",
    "        {\n",
    "            \"type\": \"image_url\",\n",
    "            \"image_url\": {\"url\": \"data:image/jpeg;base64,{image_data}\"},\n",
    "        },\n",
    "    ]),\n",
    "])"
   ]
  },
  {
   "cell_type": "code",
   "execution_count": null,
   "metadata": {},
   "outputs": [],
   "source": []
  }
 ],
 "metadata": {
  "kernelspec": {
   "display_name": "base",
   "language": "python",
   "name": "python3"
  },
  "language_info": {
   "codemirror_mode": {
    "name": "ipython",
    "version": 3
   },
   "file_extension": ".py",
   "mimetype": "text/x-python",
   "name": "python",
   "nbconvert_exporter": "python",
   "pygments_lexer": "ipython3",
   "version": "3.11.7"
  }
 },
 "nbformat": 4,
 "nbformat_minor": 4
}
