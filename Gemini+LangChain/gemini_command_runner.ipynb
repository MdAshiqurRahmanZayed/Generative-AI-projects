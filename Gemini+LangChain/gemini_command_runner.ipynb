{
 "cells": [
  {
   "cell_type": "code",
   "execution_count": 2,
   "id": "1cfec5e9",
   "metadata": {},
   "outputs": [],
   "source": [
    "import os\n",
    "import subprocess\n",
    "from dotenv import load_dotenv\n",
    "from langchain_google_genai import ChatGoogleGenerativeAI\n",
    "from langchain.prompts import ChatPromptTemplate"
   ]
  },
  {
   "cell_type": "markdown",
   "id": "23cebc4a",
   "metadata": {},
   "source": [
    "## Load .env variables"
   ]
  },
  {
   "cell_type": "code",
   "execution_count": 4,
   "id": "b198b6e5",
   "metadata": {},
   "outputs": [],
   "source": [
    "load_dotenv()\n",
    "GOOGLE_API_KEY = os.getenv(\"GOOGLE_API_KEY\")\n",
    "\n",
    "if not GOOGLE_API_KEY:\n",
    "    raise EnvironmentError(\"GOOGLE_API_KEY not found in .env\")\n"
   ]
  },
  {
   "cell_type": "markdown",
   "id": "32b70253",
   "metadata": {},
   "source": [
    "## Correct model name for API Key"
   ]
  },
  {
   "cell_type": "code",
   "execution_count": 6,
   "id": "bee035d6",
   "metadata": {},
   "outputs": [],
   "source": [
    "llm = ChatGoogleGenerativeAI(\n",
    "    model=\"models/gemini-2.0-flash\",\n",
    "    google_api_key=GOOGLE_API_KEY\n",
    ")"
   ]
  },
  {
   "cell_type": "markdown",
   "id": "7a53d7b9",
   "metadata": {},
   "source": [
    "## Prompt template\n"
   ]
  },
  {
   "cell_type": "code",
   "execution_count": 8,
   "id": "f95627d7",
   "metadata": {},
   "outputs": [],
   "source": [
    "template = \"\"\"\n",
    "You are a helpful assistant that translates user input into shell commands (Linux/macOS).\n",
    "Respond only with the shell command(s). Do not add explanations.\n",
    "\n",
    "User request: {user_input}\n",
    "Shell command:\n",
    "\"\"\""
   ]
  },
  {
   "cell_type": "code",
   "execution_count": 9,
   "id": "79d71ff9",
   "metadata": {},
   "outputs": [],
   "source": [
    "prompt = ChatPromptTemplate.from_template(template)"
   ]
  },
  {
   "cell_type": "markdown",
   "id": "1efe71cb",
   "metadata": {},
   "source": [
    "## Necessary function"
   ]
  },
  {
   "cell_type": "code",
   "execution_count": 11,
   "id": "026acbce",
   "metadata": {},
   "outputs": [],
   "source": [
    "def get_shell_command(user_input: str) -> str:\n",
    "    chain = prompt | llm\n",
    "    print(\"\\n🔍 Generating shell command from your request...\")\n",
    "    result = chain.invoke({\"user_input\": user_input})\n",
    "    return result.content.strip()\n",
    "\n",
    "def run_command_and_save_output(command: str, output_file: str = \"output.txt\"):\n",
    "    print(f\"\\n🚀 Executing command: {command}\\n\")\n",
    "    try:\n",
    "        result = subprocess.run(command, shell=True, capture_output=True, text=True)\n",
    "        output = result.stdout or result.stderr\n",
    "        print(\"📄 Command Output:\\n\", output)\n",
    "        with open(output_file, \"w\") as f:\n",
    "            f.write(output)\n",
    "        print(f\"\\n✅ Output saved to {output_file}\")\n",
    "    except Exception as e:\n",
    "        print(\"❌ Error executing command:\", e)"
   ]
  },
  {
   "cell_type": "markdown",
   "id": "e4902215",
   "metadata": {},
   "source": [
    "## Main"
   ]
  },
  {
   "cell_type": "code",
   "execution_count": 13,
   "id": "59d1140f",
   "metadata": {},
   "outputs": [],
   "source": [
    "user_prompt = \"My request is to list all files, including hidden files, in the current directory.\""
   ]
  },
  {
   "cell_type": "code",
   "execution_count": null,
   "id": "72fa3cab",
   "metadata": {},
   "outputs": [
    {
     "name": "stdout",
     "output_type": "stream",
     "text": [
      "🔧 Gemini Command Runner (API Key Mode)\n",
      "\n",
      "🔍 Generating shell command from your request...\n"
     ]
    }
   ],
   "source": [
    "print(\"🔧 Gemini Command Runner (API Key Mode)\")\n",
    "\n",
    "shell_command = get_shell_command(user_prompt)\n",
    "print(f\"\\n💡 Generated Command: {shell_command}\")\n",
    "confirm = input(\"\\n❓Do you want to run this command? (y/n): \").strip().lower()\n",
    "\n",
    "if confirm == \"y\":\n",
    "    run_command_and_save_output(shell_command)\n",
    "else:\n",
    "    print(\"❎ Command execution canceled.\")"
   ]
  }
 ],
 "metadata": {
  "kernelspec": {
   "display_name": "base",
   "language": "python",
   "name": "python3"
  },
  "language_info": {
   "codemirror_mode": {
    "name": "ipython",
    "version": 3
   },
   "file_extension": ".py",
   "mimetype": "text/x-python",
   "name": "python",
   "nbconvert_exporter": "python",
   "pygments_lexer": "ipython3",
   "version": "3.11.7"
  }
 },
 "nbformat": 4,
 "nbformat_minor": 5
}
