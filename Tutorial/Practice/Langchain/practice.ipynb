{
 "cells": [
  {
   "cell_type": "code",
   "execution_count": 1,
   "metadata": {},
   "outputs": [],
   "source": [
    "import getpass\n",
    "import os\n",
    "\n",
    "if \"GOOGLE_API_KEY\" not in os.environ:\n",
    "    os.environ[\"GOOGLE_API_KEY\"] = getpass.getpass(\"Provide your Google API Key\")"
   ]
  },
  {
   "cell_type": "code",
   "execution_count": 2,
   "metadata": {},
   "outputs": [],
   "source": [
    "from langchain_google_genai import GoogleGenerativeAI\n",
    "\n",
    "from langchain.prompts import PromptTemplate\n",
    "from langchain.chains import LLMChain,SimpleSequentialChain,SequentialChain"
   ]
  },
  {
   "cell_type": "code",
   "execution_count": 3,
   "metadata": {},
   "outputs": [],
   "source": [
    "llm_genai = GoogleGenerativeAI(model=\"gemini-pro\",temperature=0.6)"
   ]
  },
  {
   "cell_type": "code",
   "execution_count": 4,
   "metadata": {},
   "outputs": [
    {
     "name": "stdout",
     "output_type": "stream",
     "text": [
      "* **Aashna:** Meaning \"hope\" or \"desire,\" evoking anticipation and culinary exploration.\n",
      "* **Amaya:** Derived from Sanskrit, meaning \"night,\" suggesting an intimate and cozy dining experience.\n",
      "* **Bhoomi:** Meaning \"earth,\" emphasizing the connection to nature and fresh ingredients.\n",
      "* **Chakra:** Inspired by the ancient Indian energy centers, representing balance and harmony in the dining experience.\n",
      "* **Divya:** Meaning \"divine\" or \"celestial,\" conveying an elevated and luxurious atmosphere.\n",
      "* **Indra:** Named after the king of the gods in Hindu mythology, symbolizing grandeur and opulence.\n",
      "* **Kalpavriksha:** Representing the mythical wish-fulfilling tree, suggesting an enchanting and fulfilling dining journey.\n",
      "* **Maharaja:** Meaning \"great king,\" evoking the royal heritage and grandeur of Indian cuisine.\n",
      "* **Nirvana:** Inspired by the ultimate state of enlightenment, promising a transcendent dining experience.\n",
      "* **Saffron:** The quintessential Indian spice, known for its vibrant color and aromatic qualities, representing authenticity and excellence.\n",
      "* **Swad:** Meaning \"taste,\" highlighting the emphasis on flavor and culinary artistry.\n"
     ]
    }
   ],
   "source": [
    "name = llm_genai.invoke(\"I want to open a indian food,Suggest a fency name for this!\")\n",
    "print(name)"
   ]
  },
  {
   "cell_type": "code",
   "execution_count": 5,
   "metadata": {},
   "outputs": [
    {
     "data": {
      "text/plain": [
       "'I want to open a restaurant for Maxican food,Suggest only one fency name for this!'"
      ]
     },
     "execution_count": 5,
     "metadata": {},
     "output_type": "execute_result"
    }
   ],
   "source": [
    "promt_template_food_name = PromptTemplate(\n",
    "    input_variables=['cuisine'],\n",
    "    template= \"I want to open a restaurant for {cuisine} food,Suggest only one fency name for this!\"\n",
    ")\n",
    "promt_template_food_name.format(cuisine=\"Maxican\")"
   ]
  },
  {
   "cell_type": "code",
   "execution_count": 6,
   "metadata": {},
   "outputs": [
    {
     "name": "stderr",
     "output_type": "stream",
     "text": [
      "/tmp/ipykernel_14878/2595859643.py:1: LangChainDeprecationWarning: The class `LLMChain` was deprecated in LangChain 0.1.17 and will be removed in 1.0. Use :meth:`~RunnableSequence, e.g., `prompt | llm`` instead.\n",
      "  chain_restaurant  = LLMChain(llm=llm_genai, prompt=promt_template_food_name,output_key=\"restaurant_name\")\n",
      "/tmp/ipykernel_14878/2595859643.py:3: LangChainDeprecationWarning: The method `Chain.run` was deprecated in langchain 0.1.0 and will be removed in 1.0. Use :meth:`~invoke` instead.\n",
      "  restaurant_name = chain_restaurant.run(cuisine=cuisine)\n"
     ]
    },
    {
     "name": "stdout",
     "output_type": "stream",
     "text": [
      "\"Aromas of Bengal\"\n",
      "Mughlai Paratha, Kosha Mangsho, Macher Jhol, Chingri Malai Curry, Luchi, Aloo Posto, Mishti Doi, Roshogolla, Sandesh, Malpua\n"
     ]
    }
   ],
   "source": [
    "chain_restaurant  = LLMChain(llm=llm_genai, prompt=promt_template_food_name,output_key=\"restaurant_name\")\n",
    "cuisine = \"Bangladeshi\"\n",
    "restaurant_name = chain_restaurant.run(cuisine=cuisine)\n",
    "print(restaurant_name)\n",
    "\n",
    "promt_template_menu_items = PromptTemplate(\n",
    "    input_variables=['restaurant_name'],\n",
    "    template= \"Suggest some menu items for {restaurant_name}.Return it as comma saparated list.\"\n",
    ")  \n",
    "chain_menu = LLMChain(llm=llm_genai, prompt=promt_template_menu_items,output_key=\"menu_items\")\n",
    "menu_items = chain_menu.run(restaurant_name=restaurant_name)\n",
    "print(menu_items)\n"
   ]
  },
  {
   "cell_type": "code",
   "execution_count": 7,
   "metadata": {},
   "outputs": [],
   "source": [
    "prompt_template_name = PromptTemplate(\n",
    "    input_variables =['cuisine'],\n",
    "    template = \"I want to open a restaurant for {cuisine} food. Suggest me a only one fency name for this.\"\n",
    ")\n",
    "\n",
    "name_chain =LLMChain(llm=llm_genai, prompt=prompt_template_name, output_key=\"restaurant_name\")\n",
    "\n",
    "\n",
    "prompt_template_items = PromptTemplate(\n",
    "    input_variables = ['restaurant_name'],\n",
    "    template=\"Suggest some menu items for {restaurant_name}.\"\n",
    ")\n",
    "\n",
    "food_items_chain =LLMChain(llm=llm_genai, prompt=prompt_template_items, output_key=\"menu_items\")"
   ]
  },
  {
   "cell_type": "code",
   "execution_count": 9,
   "metadata": {},
   "outputs": [
    {
     "data": {
      "text/plain": [
       "{'cuisine': 'Arabic',\n",
       " 'restaurant_name': \"Al-Basha's Royal Delights\",\n",
       " 'menu_items': '**Appetizers**\\n\\n* **Hummus Bi Tahini:** Creamy chickpea dip with tahini, lemon juice, and garlic\\n* **Baba Ghanoush:** Roasted eggplant dip with tahini, lemon juice, and spices\\n* **Falafel:** Deep-fried chickpea balls served with tahini sauce\\n* **Kibbeh Nayeh:** Raw ground lamb with bulgur, onions, and spices\\n* **Cheese Rolls:** Crispy spring rolls filled with feta cheese and herbs\\n\\n**Salads**\\n\\n* **Fattoush:** Mixed salad with tomatoes, cucumbers, onions, radishes, mint, and crispy pita bread\\n* **Tabbouleh:** Bulgur salad with tomatoes, cucumbers, parsley, mint, and lemon juice\\n* **Greek Salad:** Fresh tomatoes, cucumbers, onions, bell peppers, feta cheese, and olives tossed in a light vinaigrette\\n\\n**Entrees**\\n\\n* **Shish Tawook:** Marinated chicken skewers grilled to perfection\\n* **Kofta Kabab:** Ground lamb and beef skewers seasoned with Middle Eastern spices\\n* **Lamb Chops:** Grilled lamb chops marinated in herbs and spices\\n* **Mixed Grill:** A combination of shish tawook, kofta kabab, and lamb chops\\n* **Maqluba:** Traditional Palestinian dish featuring layers of rice, vegetables, and meat\\n\\n**Desserts**\\n\\n* **Baklava:** Layers of filo dough filled with nuts and honey syrup\\n* **Kanafeh:** Shredded filo dough with sweet cheese filling, topped with syrup\\n* **Umm Ali:** A bread pudding made with puff pastry, milk, and nuts\\n* **Fruit Salad:** Fresh seasonal fruit tossed in a light syrup\\n* **Ice Cream:** A variety of flavors to choose from, including pistachio, rose water, and saffron'}"
      ]
     },
     "execution_count": 9,
     "metadata": {},
     "output_type": "execute_result"
    }
   ],
   "source": [
    "from langchain.chains import SequentialChain\n",
    "\n",
    "chain = SequentialChain(\n",
    "    chains = [name_chain, food_items_chain],\n",
    "    input_variables = ['cuisine'],\n",
    "    output_variables = ['restaurant_name', \"menu_items\"]\n",
    ")\n",
    "chain({\"cuisine\": \"Arabic\"})"
   ]
  },
  {
   "cell_type": "code",
   "execution_count": null,
   "metadata": {},
   "outputs": [],
   "source": []
  }
 ],
 "metadata": {
  "kernelspec": {
   "display_name": "base",
   "language": "python",
   "name": "python3"
  },
  "language_info": {
   "codemirror_mode": {
    "name": "ipython",
    "version": 3
   },
   "file_extension": ".py",
   "mimetype": "text/x-python",
   "name": "python",
   "nbconvert_exporter": "python",
   "pygments_lexer": "ipython3",
   "version": "3.11.7"
  }
 },
 "nbformat": 4,
 "nbformat_minor": 2
}
